{
 "cells": [
  {
   "cell_type": "markdown",
   "metadata": {},
   "source": [
    "# Start Script & establish a connection to elabFTW"
   ]
  },
  {
   "cell_type": "markdown",
   "metadata": {},
   "source": [
    "## 1. Generate an API Key (\"schreibgeschützt\"): https://elab-staging.uni-muenster.de/ucp.php?tab=4\n",
    "\n",
    "(API Docs: https://doc.elabftw.net/api/v2/)"
   ]
  },
  {
   "cell_type": "code",
   "execution_count": 1,
   "metadata": {},
   "outputs": [],
   "source": [
    "from elabftw_api_client import ElabFTW"
   ]
  },
  {
   "cell_type": "code",
   "execution_count": 2,
   "metadata": {},
   "outputs": [
    {
     "name": "stdout",
     "output_type": "stream",
     "text": [
      "Initializing ElabFTW class with user_agent_string: elabftw_api_access\n"
     ]
    }
   ],
   "source": [
    "API_KEY = \"\"\n",
    "ftw = ElabFTW(\n",
    "    \"https://elab-staging.uni-muenster.de/\",\n",
    "    API_KEY,\n",
    ")"
   ]
  },
  {
   "cell_type": "markdown",
   "metadata": {},
   "source": [
    "## Check connection"
   ]
  },
  {
   "cell_type": "code",
   "execution_count": 3,
   "metadata": {},
   "outputs": [
    {
     "data": {
      "text/plain": [
       "'Connection to ElabFTW successful'"
      ]
     },
     "execution_count": 3,
     "metadata": {},
     "output_type": "execute_result"
    }
   ],
   "source": [
    "ftw.check_connection()"
   ]
  },
  {
   "cell_type": "markdown",
   "metadata": {},
   "source": [
    "## Get all items (ressources) you have access to\n",
    "\n",
    "Returns a list of dictionaries."
   ]
  },
  {
   "cell_type": "code",
   "execution_count": 4,
   "metadata": {},
   "outputs": [],
   "source": [
    "items = ftw.get_ressources()"
   ]
  },
  {
   "cell_type": "markdown",
   "metadata": {},
   "source": [
    "Your can access all titels for example like this:"
   ]
  },
  {
   "cell_type": "code",
   "execution_count": null,
   "metadata": {},
   "outputs": [],
   "source": [
    "for item in items:\n",
    "    print(item['title'])"
   ]
  },
  {
   "cell_type": "markdown",
   "metadata": {},
   "source": [
    "If this returns nothing, you might not have any items yet. Check https://elab-staging.uni-muenster.de/database.php to make sure."
   ]
  },
  {
   "cell_type": "markdown",
   "metadata": {},
   "source": [
    "# Create a new ressource"
   ]
  },
  {
   "cell_type": "markdown",
   "metadata": {},
   "source": [
    "### Get all current ressource categories"
   ]
  },
  {
   "cell_type": "code",
   "execution_count": 6,
   "metadata": {},
   "outputs": [
    {
     "name": "stdout",
     "output_type": "stream",
     "text": [
      "Default (ID:3)\n",
      "Antikörper (ID:11)\n",
      "Karls Testkategorie (ID:18)\n",
      "Karls_Testkategorie (ID:19)\n",
      "Karls_Testkategorie (ID:20)\n",
      "Karls_Testkategorie (ID:21)\n",
      "Karls_Testkategorie (ID:22)\n"
     ]
    }
   ],
   "source": [
    "for category in ftw.get_ressource_categories():\n",
    "    print(category[\"title\"] + \" (ID:\" + str(category[\"id\"]) + \")\")"
   ]
  },
  {
   "cell_type": "markdown",
   "metadata": {},
   "source": [
    "Prepare a new ressouce. Allowed arguments are: \n",
    "\n",
    "- `category_id` as `int` \n",
    "- `tags` as a list of `str`\n",
    "- `tittle` as `str`\n",
    "- `body` as `str`\n",
    "- `metadata` as `dict`"
   ]
  },
  {
   "cell_type": "code",
   "execution_count": 14,
   "metadata": {},
   "outputs": [
    {
     "name": "stdout",
     "output_type": "stream",
     "text": [
      "Item created: ('https://elab-staging.uni-muenster.de/database.php?mode=view&id=108',)\n"
     ]
    }
   ],
   "source": [
    "metadata = {\"testkey\": \"ABC\", \"second key\": \"DEF\"}\n",
    "new_item = ftw.create_ressource(category_id=18, title=\"Random test name\", body=\"Random test body\", metadata=metadata)"
   ]
  },
  {
   "cell_type": "markdown",
   "metadata": {},
   "source": [
    "## Read CSV and create Ressources"
   ]
  },
  {
   "cell_type": "code",
   "execution_count": 19,
   "metadata": {},
   "outputs": [
    {
     "data": {
      "text/html": [
       "<div>\n",
       "<style scoped>\n",
       "    .dataframe tbody tr th:only-of-type {\n",
       "        vertical-align: middle;\n",
       "    }\n",
       "\n",
       "    .dataframe tbody tr th {\n",
       "        vertical-align: top;\n",
       "    }\n",
       "\n",
       "    .dataframe thead th {\n",
       "        text-align: right;\n",
       "    }\n",
       "</style>\n",
       "<table border=\"1\" class=\"dataframe\">\n",
       "  <thead>\n",
       "    <tr style=\"text-align: right;\">\n",
       "      <th></th>\n",
       "      <th>title</th>\n",
       "      <th>Supplier</th>\n",
       "      <th>No</th>\n",
       "      <th>Stock</th>\n",
       "      <th>remarks</th>\n",
       "    </tr>\n",
       "  </thead>\n",
       "  <tbody>\n",
       "    <tr>\n",
       "      <th>0</th>\n",
       "      <td>2-Mercaptoethanol</td>\n",
       "      <td>SupplierOne</td>\n",
       "      <td>2434233</td>\n",
       "      <td>20ml</td>\n",
       "      <td>NaN</td>\n",
       "    </tr>\n",
       "    <tr>\n",
       "      <th>1</th>\n",
       "      <td>2-Propanol</td>\n",
       "      <td>FictionalGMBH</td>\n",
       "      <td>234342234-Mjsjsee</td>\n",
       "      <td>3423</td>\n",
       "      <td>NaN</td>\n",
       "    </tr>\n",
       "    <tr>\n",
       "      <th>2</th>\n",
       "      <td>Accutase</td>\n",
       "      <td>THEchemsupplyCo</td>\n",
       "      <td>njndnefw-23423</td>\n",
       "      <td>100ml</td>\n",
       "      <td>NaN</td>\n",
       "    </tr>\n",
       "    <tr>\n",
       "      <th>3</th>\n",
       "      <td>Aceton</td>\n",
       "      <td>IDK</td>\n",
       "      <td>123</td>\n",
       "      <td>NaN</td>\n",
       "      <td>NaN</td>\n",
       "    </tr>\n",
       "    <tr>\n",
       "      <th>4</th>\n",
       "      <td>Test</td>\n",
       "      <td>Test</td>\n",
       "      <td>Test</td>\n",
       "      <td>Test</td>\n",
       "      <td>NaN</td>\n",
       "    </tr>\n",
       "  </tbody>\n",
       "</table>\n",
       "</div>"
      ],
      "text/plain": [
       "               title         Supplier                 No  Stock  remarks\n",
       "0  2-Mercaptoethanol      SupplierOne            2434233   20ml      NaN\n",
       "1         2-Propanol    FictionalGMBH  234342234-Mjsjsee   3423      NaN\n",
       "2           Accutase  THEchemsupplyCo     njndnefw-23423  100ml      NaN\n",
       "3             Aceton              IDK                123    NaN      NaN\n",
       "4               Test             Test               Test   Test      NaN"
      ]
     },
     "execution_count": 19,
     "metadata": {},
     "output_type": "execute_result"
    }
   ],
   "source": [
    "import pandas as pd\n",
    "\n",
    "df = pd.read_csv(\"items.csv\")\n",
    "df"
   ]
  },
  {
   "cell_type": "markdown",
   "metadata": {},
   "source": [
    "Reading an Excel file is equally simple: `df = pd.read_excel(\"items.csv\")`"
   ]
  },
  {
   "cell_type": "code",
   "execution_count": 22,
   "metadata": {},
   "outputs": [
    {
     "data": {
      "text/html": [
       "<div>\n",
       "<style scoped>\n",
       "    .dataframe tbody tr th:only-of-type {\n",
       "        vertical-align: middle;\n",
       "    }\n",
       "\n",
       "    .dataframe tbody tr th {\n",
       "        vertical-align: top;\n",
       "    }\n",
       "\n",
       "    .dataframe thead th {\n",
       "        text-align: right;\n",
       "    }\n",
       "</style>\n",
       "<table border=\"1\" class=\"dataframe\">\n",
       "  <thead>\n",
       "    <tr style=\"text-align: right;\">\n",
       "      <th></th>\n",
       "      <th>title</th>\n",
       "      <th>Supplier</th>\n",
       "      <th>No</th>\n",
       "      <th>Stock</th>\n",
       "      <th>remarks</th>\n",
       "    </tr>\n",
       "  </thead>\n",
       "  <tbody>\n",
       "    <tr>\n",
       "      <th>0</th>\n",
       "      <td>2-Mercaptoethanol</td>\n",
       "      <td>SupplierOne</td>\n",
       "      <td>2434233</td>\n",
       "      <td>20ml</td>\n",
       "      <td>NaN</td>\n",
       "    </tr>\n",
       "    <tr>\n",
       "      <th>1</th>\n",
       "      <td>2-Propanol</td>\n",
       "      <td>FictionalGMBH</td>\n",
       "      <td>234342234-Mjsjsee</td>\n",
       "      <td>3423</td>\n",
       "      <td>NaN</td>\n",
       "    </tr>\n",
       "    <tr>\n",
       "      <th>2</th>\n",
       "      <td>Accutase</td>\n",
       "      <td>THEchemsupplyCo</td>\n",
       "      <td>njndnefw-23423</td>\n",
       "      <td>100ml</td>\n",
       "      <td>NaN</td>\n",
       "    </tr>\n",
       "    <tr>\n",
       "      <th>3</th>\n",
       "      <td>Aceton</td>\n",
       "      <td>IDK</td>\n",
       "      <td>123</td>\n",
       "      <td>NaN</td>\n",
       "      <td>NaN</td>\n",
       "    </tr>\n",
       "    <tr>\n",
       "      <th>4</th>\n",
       "      <td>Test</td>\n",
       "      <td>Test</td>\n",
       "      <td>Test</td>\n",
       "      <td>Test</td>\n",
       "      <td>NaN</td>\n",
       "    </tr>\n",
       "  </tbody>\n",
       "</table>\n",
       "</div>"
      ],
      "text/plain": [
       "               title         Supplier                 No  Stock  remarks\n",
       "0  2-Mercaptoethanol      SupplierOne            2434233   20ml      NaN\n",
       "1         2-Propanol    FictionalGMBH  234342234-Mjsjsee   3423      NaN\n",
       "2           Accutase  THEchemsupplyCo     njndnefw-23423  100ml      NaN\n",
       "3             Aceton              IDK                123    NaN      NaN\n",
       "4               Test             Test               Test   Test      NaN"
      ]
     },
     "execution_count": 22,
     "metadata": {},
     "output_type": "execute_result"
    }
   ],
   "source": [
    "df2 = pd.read_excel(\"Example_cons.xlsx\")\n",
    "df2"
   ]
  },
  {
   "cell_type": "code",
   "execution_count": 18,
   "metadata": {},
   "outputs": [
    {
     "name": "stdout",
     "output_type": "stream",
     "text": [
      "Creating item 2-Mercaptoethanol\n",
      "Item created: ('https://elab-staging.uni-muenster.de/database.php?mode=view&id=109',)\n",
      "Creating item 2-Propanol\n",
      "Item created: ('https://elab-staging.uni-muenster.de/database.php?mode=view&id=110',)\n",
      "Creating item Accutase\n",
      "Item created: ('https://elab-staging.uni-muenster.de/database.php?mode=view&id=111',)\n",
      "Creating item Aceton\n",
      "Item created: ('https://elab-staging.uni-muenster.de/database.php?mode=view&id=112',)\n",
      "Creating item Test\n",
      "Item created: ('https://elab-staging.uni-muenster.de/database.php?mode=view&id=113',)\n"
     ]
    }
   ],
   "source": [
    "for index, row in df.iterrows():\n",
    "    print(f\"Creating item {row['title']}\")\n",
    "    body = f\"Supplier: {row['Supplier']},\\nNo: {row['No']},\\nStock: {row['Stock']}\"\n",
    "    metadata = {\"Supplier\": row[\"Supplier\"], \"No\": row[\"No\"], \"Stock\": row[\"Stock\"]}\n",
    "    ftw.create_ressource(category_id=18, title=row[\"title\"], body=body, metadata=metadata)"
   ]
  },
  {
   "cell_type": "code",
   "execution_count": null,
   "metadata": {},
   "outputs": [],
   "source": []
  }
 ],
 "metadata": {
  "kernelspec": {
   "display_name": ".venv",
   "language": "python",
   "name": "python3"
  },
  "language_info": {
   "codemirror_mode": {
    "name": "ipython",
    "version": 3
   },
   "file_extension": ".py",
   "mimetype": "text/x-python",
   "name": "python",
   "nbconvert_exporter": "python",
   "pygments_lexer": "ipython3",
   "version": "3.12.6"
  }
 },
 "nbformat": 4,
 "nbformat_minor": 2
}
