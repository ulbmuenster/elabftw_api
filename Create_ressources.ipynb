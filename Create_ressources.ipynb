{
 "cells": [
  {
   "cell_type": "markdown",
   "metadata": {},
   "source": [
    "# Start Script & establish a connection to elabFTW"
   ]
  },
  {
   "cell_type": "markdown",
   "metadata": {},
   "source": [
    "1. Generate an API Key (\"schreibgeschützt\"): https://<your-elab-instance.de>/ucp.php?tab=4\n",
    "2. Paste the API Key in the next cell inside the quotes, e.g. `API_KEY = \"7-6ahbd7kad0...\"`\n",
    "3. Fill in the URL of your elabFTW Instance in the quotes of `ELABFTW_URL = \"\"`\n",
    "4. Execute cell. Output should read: `'Connection to ElabFTW at https://<your-elab-instance.de> successful'`"
   ]
  },
  {
   "cell_type": "code",
   "execution_count": null,
   "metadata": {},
   "outputs": [],
   "source": [
    "from elabftw_api_client import ElabFTW\n",
    "\n",
    "ELABFTW_URL = \"\"\n",
    "API_KEY = \"\"\n",
    "\n",
    "ftw = ElabFTW(\n",
    "    ELABFTW_URL,\n",
    "    API_KEY,\n",
    ")\n",
    "\n",
    "# check that the connection was successful\n",
    "\n",
    "ftw.check_connection()"
   ]
  },
  {
   "cell_type": "markdown",
   "metadata": {},
   "source": [
    "## Get all items (ressources) you have access to\n",
    "\n",
    "Returns a list of dictionaries."
   ]
  },
  {
   "cell_type": "code",
   "execution_count": null,
   "metadata": {},
   "outputs": [],
   "source": [
    "items = ftw.get_ressources()"
   ]
  },
  {
   "cell_type": "markdown",
   "metadata": {},
   "source": [
    "Your can access all titels for example like this:"
   ]
  },
  {
   "cell_type": "code",
   "execution_count": null,
   "metadata": {},
   "outputs": [],
   "source": [
    "for item in items:\n",
    "    print(item['title'])"
   ]
  },
  {
   "cell_type": "markdown",
   "metadata": {},
   "source": [
    "If this returns nothing, you might not have any items yet. Check https://<your-elab-instance>.de/database.php to make sure."
   ]
  },
  {
   "cell_type": "markdown",
   "metadata": {},
   "source": [
    "# Create a new ressource"
   ]
  },
  {
   "cell_type": "markdown",
   "metadata": {},
   "source": [
    "### Get all current ressource categories"
   ]
  },
  {
   "cell_type": "code",
   "execution_count": null,
   "metadata": {},
   "outputs": [],
   "source": [
    "for category in ftw.get_ressource_categories():\n",
    "    print(category[\"title\"] + \" (ID:\" + str(category[\"id\"]) + \")\")"
   ]
  },
  {
   "cell_type": "markdown",
   "metadata": {},
   "source": [
    "### Create a new category"
   ]
  },
  {
   "cell_type": "code",
   "execution_count": null,
   "metadata": {},
   "outputs": [],
   "source": [
    "ressource_category_id = ftw.create_ressource_category(\"Organisms2\")"
   ]
  },
  {
   "cell_type": "markdown",
   "metadata": {},
   "source": [
    "Check the ID of the newly created ressource category:"
   ]
  },
  {
   "cell_type": "code",
   "execution_count": null,
   "metadata": {},
   "outputs": [],
   "source": [
    "ressource_category_id"
   ]
  },
  {
   "cell_type": "markdown",
   "metadata": {},
   "source": [
    "### Prepare a new ressouce. Allowed arguments are: \n",
    "\n",
    "- `category_id` as `int` \n",
    "- `tags` as a list of `str`\n",
    "- `tittle` as `str`\n",
    "- `body` as `str`\n",
    "- `metadata` as `dict`"
   ]
  },
  {
   "cell_type": "code",
   "execution_count": null,
   "metadata": {},
   "outputs": [],
   "source": [
    "metadata = {\"testkey\": \"ABC\", \"second key\": \"DEF\"}\n",
    "new_item = ftw.create_ressource(category_id=192, title=\"Random test name\", body=\"Random test body\", metadata=metadata)"
   ]
  },
  {
   "cell_type": "markdown",
   "metadata": {},
   "source": [
    "## Read data and create Ressources"
   ]
  },
  {
   "cell_type": "code",
   "execution_count": null,
   "metadata": {},
   "outputs": [],
   "source": [
    "import pandas as pd\n",
    "\n",
    "df = pd.read_csv(\"example_data/Example_cons.csv\")\n",
    "df"
   ]
  },
  {
   "cell_type": "markdown",
   "metadata": {},
   "source": [
    "Reading an Excel file is equally simple, change `pd.read_csv` to `pd.read_excel`.\n",
    "\n",
    "Now loop over the data and for each row create a ressoruce that reads from the columns:"
   ]
  },
  {
   "cell_type": "code",
   "execution_count": null,
   "metadata": {},
   "outputs": [],
   "source": [
    "for index, row in df.iterrows():\n",
    "    print(f\"Creating item {row['title']}\")\n",
    "    body = f\"Supplier: {row['Supplier']},\\nNo: {row['No']},\\nStock: {row['Stock']}\"\n",
    "    metadata = {\"Supplier\": row[\"Supplier\"], \"No\": row[\"No\"], \"Stock\": row[\"Stock\"]}\n",
    "    ftw.create_ressource(category_id=18, title=row[\"title\"], body=body, metadata=metadata)"
   ]
  }
 ],
 "metadata": {
  "kernelspec": {
   "display_name": ".venv",
   "language": "python",
   "name": "python3"
  },
  "language_info": {
   "codemirror_mode": {
    "name": "ipython",
    "version": 3
   },
   "file_extension": ".py",
   "mimetype": "text/x-python",
   "name": "python",
   "nbconvert_exporter": "python",
   "pygments_lexer": "ipython3",
   "version": "3.12.6"
  }
 },
 "nbformat": 4,
 "nbformat_minor": 2
}
